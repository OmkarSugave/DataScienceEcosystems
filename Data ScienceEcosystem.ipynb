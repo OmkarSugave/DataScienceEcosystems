{
 "cells": [
  {
   "cell_type": "code",
   "execution_count": null,
   "id": "5ff648d9-3887-4967-9feb-d2608833ed84",
   "metadata": {},
   "outputs": [],
   "source": [
    "# Data Science Tools and Ecosystem"
   ]
  },
  {
   "cell_type": "markdown",
   "id": "70cddc94-acd2-43da-a3c4-57a27c5f413d",
   "metadata": {},
   "source": [
    "# Data Science Tools and Ecosystem\n"
   ]
  },
  {
   "cell_type": "code",
   "execution_count": null,
   "id": "9235b0fe-e330-4c95-942c-c0becabc2270",
   "metadata": {},
   "outputs": [],
   "source": [
    "# introduction cell"
   ]
  },
  {
   "cell_type": "markdown",
   "id": "20429775-264c-4678-85ab-214b8315fa05",
   "metadata": {},
   "source": [
    "# In this Notebook, Data Science and Ecosystem are Summarized"
   ]
  },
  {
   "cell_type": "markdown",
   "id": "e89fea59-99b7-45f4-b21e-f1802f423c87",
   "metadata": {},
   "source": [
    "# some of key takeways from course are:\n",
    "**Objective are to make clear the tools used in data science and its exploration**\n",
    "* to make mark down cell\n",
    "* to make table\n",
    "* to make code for conversion "
   ]
  },
  {
   "cell_type": "markdown",
   "id": "e7e0719f-5dd5-49d5-a9ee-82cfe8e19eeb",
   "metadata": {},
   "source": [
    "## Some of commonly used libraries used by data scientist include:\n",
    "1. Tensorflow\n",
    "2. Pandas\n",
    "3. NUmpy"
   ]
  },
  {
   "cell_type": "code",
   "execution_count": null,
   "id": "bd508c4b-be3b-46d9-96a1-dec7e15c8486",
   "metadata": {},
   "outputs": [],
   "source": [
    "# table of data science tools"
   ]
  },
  {
   "cell_type": "code",
   "execution_count": null,
   "id": "0a6048b5-b0b0-4e92-ba07-da1b919ede94",
   "metadata": {},
   "outputs": [],
   "source": [
    "|Data Science tools |\n",
    "|-------------------|\n",
    "| JUpyer NOtebook   |\n",
    "| VS code           |\n",
    "| Rstudio           |"
   ]
  },
  {
   "cell_type": "code",
   "execution_count": null,
   "id": "84dfd89b-fd1d-4fac-b19d-ae648ce4dd5a",
   "metadata": {},
   "outputs": [],
   "source": [
    "|Data Science tools |\n",
    "|-------------------|\n",
    "| JUpyer NOtebook   |\n",
    "| VS code           |\n",
    "| Rstudio           |"
   ]
  },
  {
   "cell_type": "markdown",
   "id": "f4071ef2-2e45-42e5-9abb-a138e400fcc2",
   "metadata": {},
   "source": [
    "### Below are few ex of evaluting aritmetic expression in python \n"
   ]
  },
  {
   "cell_type": "code",
   "execution_count": 2,
   "id": "092dcdfa-bae9-494b-91be-baf692a67cfa",
   "metadata": {
    "tags": []
   },
   "outputs": [
    {
     "name": "stdout",
     "output_type": "stream",
     "text": [
      "8\n",
      "2\n",
      "15\n"
     ]
    }
   ],
   "source": [
    "a = 5\n",
    "b = 3\n",
    "add = a + b\n",
    "sub = a - b\n",
    "multiply = a * b\n",
    "print(add)\n",
    "print(sub)\n",
    "print(multiply)"
   ]
  },
  {
   "cell_type": "code",
   "execution_count": 5,
   "id": "a4892a60-558a-4679-8630-9ce0fb38a800",
   "metadata": {
    "tags": []
   },
   "outputs": [
    {
     "name": "stdout",
     "output_type": "stream",
     "text": [
      "17\n"
     ]
    }
   ],
   "source": [
    "# this is simple arthiemtic to multiply and add integer\n",
    "result = (3 * 4) + 5\n",
    "print(result)"
   ]
  },
  {
   "cell_type": "code",
   "execution_count": 9,
   "id": "908fb3a5-4870-4e1f-a676-33a6416f8550",
   "metadata": {
    "tags": []
   },
   "outputs": [
    {
     "name": "stdout",
     "output_type": "stream",
     "text": [
      "200 minutes is equal to 3.3333333333333335 hours.\n"
     ]
    }
   ],
   "source": [
    "#  This will convert 200min to hours by divinding by 60 \n",
    "min = 200\n",
    "hrs = min / 60\n",
    "print(f\"{min} minutes is equal to {hrs} hours.\")"
   ]
  },
  {
   "cell_type": "markdown",
   "id": "11fa82a0-6704-48ca-8328-dec8d68aa81e",
   "metadata": {},
   "source": [
    "## Auhtor \n",
    "omkar sugave"
   ]
  },
  {
   "cell_type": "code",
   "execution_count": null,
   "id": "48627e86-5201-4b2d-872a-4adfa1c743e6",
   "metadata": {},
   "outputs": [],
   "source": []
  }
 ],
 "metadata": {
  "kernelspec": {
   "display_name": "Python",
   "language": "python",
   "name": "conda-env-python-py"
  },
  "language_info": {
   "codemirror_mode": {
    "name": "ipython",
    "version": 3
   },
   "file_extension": ".py",
   "mimetype": "text/x-python",
   "name": "python",
   "nbconvert_exporter": "python",
   "pygments_lexer": "ipython3",
   "version": "3.7.12"
  }
 },
 "nbformat": 4,
 "nbformat_minor": 5
}
